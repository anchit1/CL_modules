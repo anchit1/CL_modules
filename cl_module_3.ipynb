{
 "cells": [
  {
   "cell_type": "code",
   "execution_count": 1,
   "metadata": {},
   "outputs": [],
   "source": [
    "import numpy as np\n",
    "import pandas as pd\n",
    "import matplotlib.pyplot as plt\n",
    "import seaborn as sns\n",
    "\n",
    "%matplotlib inline"
   ]
  },
  {
   "cell_type": "markdown",
   "metadata": {},
   "source": [
    "# Module 3 - Regression & Beta calculation"
   ]
  },
  {
   "cell_type": "code",
   "execution_count": 2,
   "metadata": {},
   "outputs": [
    {
     "data": {
      "text/html": [
       "<div>\n",
       "<style scoped>\n",
       "    .dataframe tbody tr th:only-of-type {\n",
       "        vertical-align: middle;\n",
       "    }\n",
       "\n",
       "    .dataframe tbody tr th {\n",
       "        vertical-align: top;\n",
       "    }\n",
       "\n",
       "    .dataframe thead th {\n",
       "        text-align: right;\n",
       "    }\n",
       "</style>\n",
       "<table border=\"1\" class=\"dataframe\">\n",
       "  <thead>\n",
       "    <tr style=\"text-align: right;\">\n",
       "      <th></th>\n",
       "      <th>Date</th>\n",
       "      <th>Price</th>\n",
       "      <th>Open</th>\n",
       "      <th>High</th>\n",
       "      <th>Low</th>\n",
       "      <th>Vol.</th>\n",
       "      <th>Change %</th>\n",
       "      <th>Pred</th>\n",
       "      <th>new</th>\n",
       "    </tr>\n",
       "  </thead>\n",
       "  <tbody>\n",
       "    <tr>\n",
       "      <th>0</th>\n",
       "      <td>May 04, 2017</td>\n",
       "      <td>28060</td>\n",
       "      <td>28400</td>\n",
       "      <td>28482</td>\n",
       "      <td>28025</td>\n",
       "      <td>0.08K</td>\n",
       "      <td>-1.79%</td>\n",
       "      <td>738.0</td>\n",
       "      <td>117.570740</td>\n",
       "    </tr>\n",
       "    <tr>\n",
       "      <th>1</th>\n",
       "      <td>May 05, 2017</td>\n",
       "      <td>28184</td>\n",
       "      <td>28136</td>\n",
       "      <td>28382</td>\n",
       "      <td>28135</td>\n",
       "      <td>0.06K</td>\n",
       "      <td>0.44%</td>\n",
       "      <td>-146.0</td>\n",
       "      <td>295.430176</td>\n",
       "    </tr>\n",
       "    <tr>\n",
       "      <th>2</th>\n",
       "      <td>May 08, 2017</td>\n",
       "      <td>28119</td>\n",
       "      <td>28145</td>\n",
       "      <td>28255</td>\n",
       "      <td>28097</td>\n",
       "      <td>7.85K</td>\n",
       "      <td>-0.23%</td>\n",
       "      <td>30.0</td>\n",
       "      <td>132.123714</td>\n",
       "    </tr>\n",
       "    <tr>\n",
       "      <th>3</th>\n",
       "      <td>May 09, 2017</td>\n",
       "      <td>27981</td>\n",
       "      <td>28125</td>\n",
       "      <td>28192</td>\n",
       "      <td>27947</td>\n",
       "      <td>10.10K</td>\n",
       "      <td>-0.49%</td>\n",
       "      <td>357.0</td>\n",
       "      <td>101.298064</td>\n",
       "    </tr>\n",
       "    <tr>\n",
       "      <th>4</th>\n",
       "      <td>May 10, 2017</td>\n",
       "      <td>28007</td>\n",
       "      <td>28060</td>\n",
       "      <td>28146</td>\n",
       "      <td>27981</td>\n",
       "      <td>9.28K</td>\n",
       "      <td>0.09%</td>\n",
       "      <td>124.0</td>\n",
       "      <td>112.153318</td>\n",
       "    </tr>\n",
       "  </tbody>\n",
       "</table>\n",
       "</div>"
      ],
      "text/plain": [
       "           Date  Price   Open   High    Low    Vol. Change %   Pred  \\\n",
       "0  May 04, 2017  28060  28400  28482  28025   0.08K   -1.79%  738.0   \n",
       "1  May 05, 2017  28184  28136  28382  28135   0.06K    0.44% -146.0   \n",
       "2  May 08, 2017  28119  28145  28255  28097   7.85K   -0.23%   30.0   \n",
       "3  May 09, 2017  27981  28125  28192  27947  10.10K   -0.49%  357.0   \n",
       "4  May 10, 2017  28007  28060  28146  27981   9.28K    0.09%  124.0   \n",
       "\n",
       "          new  \n",
       "0  117.570740  \n",
       "1  295.430176  \n",
       "2  132.123714  \n",
       "3  101.298064  \n",
       "4  112.153318  "
      ]
     },
     "execution_count": 2,
     "metadata": {},
     "output_type": "execute_result"
    }
   ],
   "source": [
    "df = pd.read_csv('GOLD.csv')\n",
    "df.head()"
   ]
  },
  {
   "cell_type": "markdown",
   "metadata": {},
   "source": [
    "### Query 3.1\n",
    "\n",
    "Import the file 'gold.csv' (you will find this in the intro section to download or in '/Data/gold.csv' if you are using the jupyter notebook), which contains the data of the last 2 years price action of Indian (MCX) gold standard. Explore the dataframe. You'd see 2 unique columns - 'Pred' and 'new'. One of the 2 columns is a linear combination of the OHLC prices with varying coefficients while the other is a polynomial function of the same inputs. Also, one of the 2 columns is partially filled.\n",
    "\n",
    "    Using linear regression, find the coefficients of the inputs and using the same trained model, complete the entire column.\n",
    "    \n",
    "    Also, try to fit the other column as well using a new linear regression model. Check if the predictions are accurate. Mention which column is a linear function and which is polynomial."
   ]
  },
  {
   "cell_type": "code",
   "execution_count": 3,
   "metadata": {},
   "outputs": [
    {
     "name": "stdout",
     "output_type": "stream",
     "text": [
      "The coefficients for the \"Pred\" column are : [ 2.  3. -1. -4.]\n",
      "The coefficients for the \"new\" column are : [ 1.01293825 -1.0003835   1.00503772 -1.01765453]\n"
     ]
    },
    {
     "data": {
      "text/plain": [
       "<matplotlib.axes._subplots.AxesSubplot at 0x7f749bbffd30>"
      ]
     },
     "execution_count": 3,
     "metadata": {},
     "output_type": "execute_result"
    },
    {
     "data": {
      "image/png": "[encoded data removed]",
      "text/plain": [
       "<Figure size 432x288 with 1 Axes>"
      ]
     },
     "metadata": {
      "needs_background": "light"
     },
     "output_type": "display_data"
    }
   ],
   "source": [
    "from sklearn.linear_model import LinearRegression\n",
    "\n",
    "# Separate input and output varibles (and drop NaN's) for 'Pred' column\n",
    "df_filtered = df.dropna()\n",
    "X_pred = df_filtered[['Price', 'Open', 'High', 'Low']]\n",
    "y_pred = df_filtered['Pred']\n",
    "\n",
    "# Train a model for the 'Pred' column\n",
    "reg1 = LinearRegression()\n",
    "reg1.fit(X_pred, y_pred)\n",
    "print('The coefficients for the \"Pred\" column are : ' + str(reg1.coef_))\n",
    "\n",
    "# Input and output variables for the 'new' column\n",
    "X_new = df[['Price', 'Open', 'High', 'Low']]\n",
    "y_new = df['new']\n",
    "\n",
    "# Train a model for the 'new' column\n",
    "reg2 = LinearRegression()\n",
    "reg2.fit(X_new, y_new)\n",
    "print('The coefficients for the \"new\" column are : ' + str(reg2.coef_))\n",
    "\n",
    " # Replace NaN's in 'Pred' column with correct values calculated through regression\n",
    "preds = reg1.predict(df[['Price', 'Open', 'High', 'Low']])\n",
    "fill_values = pd.Series(preds)\n",
    "df['Pred'].fillna(fill_values, inplace=True)\n",
    "\n",
    "# Just to confirm, we will plot a distplot to see any exceptions\n",
    "sns.distplot(df['Pred'])"
   ]
  },
  {
   "cell_type": "markdown",
   "metadata": {},
   "source": [
    "### Query 3.2\n",
    "\n",
    "Import the stock of your choosing AND the Nifty index.\n",
    "Using linear regression (OLS), calculate -\n",
    "\n",
    "    The daily Beta value for the past 3 months. (Daily= Daily returns)\n",
    "    The monthly Beta value. (Monthly= Monthly returns)\n",
    "\n",
    "Refrain from using the (covariance(x,y)/variance(x)) formula.\n",
    "\n",
    "Attempt the question using regression.(Regression Reference) "
   ]
  },
  {
   "cell_type": "code",
   "execution_count": 4,
   "metadata": {},
   "outputs": [
    {
     "name": "stdout",
     "output_type": "stream",
     "text": [
      "Beta (daily return) : 0.591932865583419\n",
      "Beta (monthly return) : 2.1140545643211115\n"
     ]
    }
   ],
   "source": [
    "from datetime import timedelta as td\n",
    "\n",
    "# Load nifty and any random stock\n",
    "nifty = pd.read_csv('Nifty50/Nifty50.csv')\n",
    "pvr = pd.read_csv('Small_Cap/LEMONTREE.csv')\n",
    "pvr['Date'] = pd.to_datetime(pvr['Date'])\n",
    "nifty['Date'] = pd.to_datetime(nifty['Date'])\n",
    "\n",
    "\n",
    "delta = td(days=90)\n",
    "\n",
    "# Calculate Beta for daily returns\n",
    "nifty_day_pct = nifty[nifty['Date'] > nifty.iloc[-1]['Date'] - delta]['Close'].pct_change().reset_index(drop=True).dropna() * 100\n",
    "y_day_pct = pvr[pvr['Date'] > pvr.iloc[-1]['Date'] - delta]['Close Price'].pct_change().reset_index(drop=True).dropna() * 100\n",
    "\n",
    "reg_beta_day = LinearRegression()\n",
    "reg_beta_day.fit(nifty_day_pct.values.reshape(-1, 1), y_day_pct)\n",
    "\n",
    "print('Beta (daily return) : {0}'.format(reg_beta_day.coef_[0]))\n",
    "\n",
    "# Monthly beta value\n",
    "nifty_month_pct = nifty[nifty['Date'] > nifty.iloc[-1]['Date'] - delta]['Close'].pct_change(30).reset_index(drop=True).dropna() * 100\n",
    "y_month_pct = pvr[pvr['Date'] > pvr.iloc[-1]['Date'] - delta]['Close Price'].pct_change(30).reset_index(drop=True).dropna() * 100\n",
    "\n",
    "reg_beta_month = LinearRegression()\n",
    "reg_beta_month.fit(nifty_month_pct.values.reshape(-1,1), y_month_pct)\n",
    "print('Beta (monthly return) : {0}'.format(reg_beta_month.coef_[0]))"
   ]
  },
  {
   "cell_type": "markdown",
   "metadata": {},
   "source": [
    "### Beta Value\n",
    "\n",
    "The beta value of a stock tells us about the volatility of the stock when compared to a relatively stable equity such as an index fund. A positive beta value tells us that the stock will rise with the rise of the index and fall with its fall. The magnitude of the beta value represents the volatility of the equity."
   ]
  }
 ],
 "metadata": {
  "kernelspec": {
   "display_name": "Python 3",
   "language": "python",
   "name": "python3"
  },
  "language_info": {
   "codemirror_mode": {
    "name": "ipython",
    "version": 3
   },
   "file_extension": ".py",
   "mimetype": "text/x-python",
   "name": "python",
   "nbconvert_exporter": "python",
   "pygments_lexer": "ipython3",
   "version": "3.7.3"
  }
 },
 "nbformat": 4,
 "nbformat_minor": 2
}
