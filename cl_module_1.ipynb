{
 "cells": [
  {
   "cell_type": "code",
   "execution_count": 1,
   "metadata": {},
   "outputs": [],
   "source": [
    "import pandas as pd\n",
    "import numpy as np\n",
    "\n",
    "%matplotlib inline"
   ]
  },
  {
   "cell_type": "code",
   "execution_count": 2,
   "metadata": {},
   "outputs": [],
   "source": [
    "# PROBLEM STATEMENT 1.1\n",
    "df = pd.read_csv('Small_Cap/PVR.csv')"
   ]
  },
  {
   "cell_type": "code",
   "execution_count": 3,
   "metadata": {},
   "outputs": [
    {
     "data": {
      "text/html": [
       "<div>\n",
       "<style scoped>\n",
       "    .dataframe tbody tr th:only-of-type {\n",
       "        vertical-align: middle;\n",
       "    }\n",
       "\n",
       "    .dataframe tbody tr th {\n",
       "        vertical-align: top;\n",
       "    }\n",
       "\n",
       "    .dataframe thead th {\n",
       "        text-align: right;\n",
       "    }\n",
       "</style>\n",
       "<table border=\"1\" class=\"dataframe\">\n",
       "  <thead>\n",
       "    <tr style=\"text-align: right;\">\n",
       "      <th></th>\n",
       "      <th>Symbol</th>\n",
       "      <th>Series</th>\n",
       "      <th>Date</th>\n",
       "      <th>Prev Close</th>\n",
       "      <th>Open Price</th>\n",
       "      <th>High Price</th>\n",
       "      <th>Low Price</th>\n",
       "      <th>Last Price</th>\n",
       "      <th>Close Price</th>\n",
       "      <th>Average Price</th>\n",
       "      <th>Total Traded Quantity</th>\n",
       "      <th>Turnover</th>\n",
       "      <th>No. of Trades</th>\n",
       "      <th>Deliverable Qty</th>\n",
       "      <th>% Dly Qt to Traded Qty</th>\n",
       "    </tr>\n",
       "  </thead>\n",
       "  <tbody>\n",
       "    <tr>\n",
       "      <th>0</th>\n",
       "      <td>PVR</td>\n",
       "      <td>EQ</td>\n",
       "      <td>15-May-2017</td>\n",
       "      <td>1526.20</td>\n",
       "      <td>1532.35</td>\n",
       "      <td>1538.15</td>\n",
       "      <td>1515.45</td>\n",
       "      <td>1520.00</td>\n",
       "      <td>1524.95</td>\n",
       "      <td>1526.51</td>\n",
       "      <td>103693</td>\n",
       "      <td>1.582883e+08</td>\n",
       "      <td>7359</td>\n",
       "      <td>54518</td>\n",
       "      <td>52.58</td>\n",
       "    </tr>\n",
       "    <tr>\n",
       "      <th>1</th>\n",
       "      <td>PVR</td>\n",
       "      <td>EQ</td>\n",
       "      <td>16-May-2017</td>\n",
       "      <td>1524.95</td>\n",
       "      <td>1526.70</td>\n",
       "      <td>1545.00</td>\n",
       "      <td>1526.65</td>\n",
       "      <td>1533.25</td>\n",
       "      <td>1539.00</td>\n",
       "      <td>1538.04</td>\n",
       "      <td>86547</td>\n",
       "      <td>1.331129e+08</td>\n",
       "      <td>6332</td>\n",
       "      <td>39020</td>\n",
       "      <td>45.09</td>\n",
       "    </tr>\n",
       "    <tr>\n",
       "      <th>2</th>\n",
       "      <td>PVR</td>\n",
       "      <td>EQ</td>\n",
       "      <td>17-May-2017</td>\n",
       "      <td>1539.00</td>\n",
       "      <td>1539.70</td>\n",
       "      <td>1552.85</td>\n",
       "      <td>1526.05</td>\n",
       "      <td>1527.00</td>\n",
       "      <td>1530.30</td>\n",
       "      <td>1538.01</td>\n",
       "      <td>73902</td>\n",
       "      <td>1.136622e+08</td>\n",
       "      <td>4665</td>\n",
       "      <td>21303</td>\n",
       "      <td>28.83</td>\n",
       "    </tr>\n",
       "    <tr>\n",
       "      <th>3</th>\n",
       "      <td>PVR</td>\n",
       "      <td>EQ</td>\n",
       "      <td>18-May-2017</td>\n",
       "      <td>1530.30</td>\n",
       "      <td>1525.00</td>\n",
       "      <td>1539.35</td>\n",
       "      <td>1502.20</td>\n",
       "      <td>1514.90</td>\n",
       "      <td>1515.05</td>\n",
       "      <td>1519.68</td>\n",
       "      <td>82125</td>\n",
       "      <td>1.248035e+08</td>\n",
       "      <td>2903</td>\n",
       "      <td>38796</td>\n",
       "      <td>47.24</td>\n",
       "    </tr>\n",
       "    <tr>\n",
       "      <th>4</th>\n",
       "      <td>PVR</td>\n",
       "      <td>EQ</td>\n",
       "      <td>19-May-2017</td>\n",
       "      <td>1515.05</td>\n",
       "      <td>1515.00</td>\n",
       "      <td>1534.50</td>\n",
       "      <td>1502.20</td>\n",
       "      <td>1517.65</td>\n",
       "      <td>1513.55</td>\n",
       "      <td>1513.25</td>\n",
       "      <td>114890</td>\n",
       "      <td>1.738567e+08</td>\n",
       "      <td>9495</td>\n",
       "      <td>54764</td>\n",
       "      <td>47.67</td>\n",
       "    </tr>\n",
       "  </tbody>\n",
       "</table>\n",
       "</div>"
      ],
      "text/plain": [
       "  Symbol Series         Date  Prev Close  Open Price  High Price  Low Price  \\\n",
       "0    PVR     EQ  15-May-2017     1526.20     1532.35     1538.15    1515.45   \n",
       "1    PVR     EQ  16-May-2017     1524.95     1526.70     1545.00    1526.65   \n",
       "2    PVR     EQ  17-May-2017     1539.00     1539.70     1552.85    1526.05   \n",
       "3    PVR     EQ  18-May-2017     1530.30     1525.00     1539.35    1502.20   \n",
       "4    PVR     EQ  19-May-2017     1515.05     1515.00     1534.50    1502.20   \n",
       "\n",
       "   Last Price  Close Price  Average Price  Total Traded Quantity  \\\n",
       "0     1520.00      1524.95        1526.51                 103693   \n",
       "1     1533.25      1539.00        1538.04                  86547   \n",
       "2     1527.00      1530.30        1538.01                  73902   \n",
       "3     1514.90      1515.05        1519.68                  82125   \n",
       "4     1517.65      1513.55        1513.25                 114890   \n",
       "\n",
       "       Turnover  No. of Trades  Deliverable Qty  % Dly Qt to Traded Qty  \n",
       "0  1.582883e+08           7359            54518                   52.58  \n",
       "1  1.331129e+08           6332            39020                   45.09  \n",
       "2  1.136622e+08           4665            21303                   28.83  \n",
       "3  1.248035e+08           2903            38796                   47.24  \n",
       "4  1.738567e+08           9495            54764                   47.67  "
      ]
     },
     "execution_count": 3,
     "metadata": {},
     "output_type": "execute_result"
    }
   ],
   "source": [
    "df.head()"
   ]
  },
  {
   "cell_type": "code",
   "execution_count": 4,
   "metadata": {},
   "outputs": [
    {
     "name": "stdout",
     "output_type": "stream",
     "text": [
      "min : 1443.4\n",
      "max : 1808.1\n",
      "mean : 1615.5588888888888\n"
     ]
    }
   ],
   "source": [
    "# PROBLEM STATEMENT 1.2\n",
    "# Calculate the max., min. and the mean price of the stock in the last 90 trading days\n",
    "df_last_90_days = df.tail(90)\n",
    "last_90_close = df_last_90_days['Close Price']\n",
    "\n",
    "min_90 = last_90_close.min()\n",
    "max_90 = last_90_close.max()\n",
    "mean_90 = last_90_close.mean()\n",
    "\n",
    "print('min : ' + str(min_90))\n",
    "print('max : ' + str(max_90))\n",
    "print('mean : ' + str(mean_90))"
   ]
  },
  {
   "cell_type": "code",
   "execution_count": 5,
   "metadata": {},
   "outputs": [
    {
     "name": "stdout",
     "output_type": "stream",
     "text": [
      "728 days 00:00:00\n"
     ]
    }
   ],
   "source": [
    "# PROBLEM STATEMENT 1.3\n",
    "# Change the dtype of the 'Date' column to datetime\n",
    "\n",
    "import datetime as dt\n",
    "\n",
    "df['Date'] = df['Date'].apply(lambda x : dt.datetime.strptime(x, '%d-%b-%Y'))\n",
    "\n",
    "# Subtracting min value of 'Date' from max value\n",
    "print(df['Date'].max() - df['Date'].min())"
   ]
  },
  {
   "cell_type": "code",
   "execution_count": 6,
   "metadata": {},
   "outputs": [
    {
     "name": "stdout",
     "output_type": "stream",
     "text": [
      "Year  Month    \n",
      "2017  August       1332.542259\n",
      "      December     1370.179452\n",
      "      July         1382.736564\n",
      "      June         1480.541916\n",
      "      May          1483.152422\n",
      "      November     1355.812855\n",
      "      October      1372.506699\n",
      "      September    1276.299095\n",
      "2018  April        1332.177906\n",
      "      August       1263.282944\n",
      "      December     1540.634877\n",
      "      February     1367.896232\n",
      "      January      1463.548441\n",
      "      July         1178.151493\n",
      "      June         1380.027513\n",
      "      March        1266.689726\n",
      "      May          1397.760378\n",
      "      November     1422.715683\n",
      "      October      1276.412981\n",
      "      September    1339.018074\n",
      "2019  April        1704.549861\n",
      "      February     1510.185194\n",
      "      January      1601.108687\n",
      "      March        1617.733294\n",
      "      May          1771.578334\n",
      "dtype: float64\n"
     ]
    }
   ],
   "source": [
    "# PROBLEM STATEMENT 1.4\n",
    "# Calculate monthwise VWAP of the stock.\n",
    "\n",
    "df['Month'] = df['Date'].apply(lambda x : dt.datetime.strftime(x, '%B'))\n",
    "df['Year'] = df['Date'].apply(lambda x : dt.datetime.strftime(x, '%Y'))\n",
    "\n",
    "# To calculate the VWAP we will also add a 'PV' columns \n",
    "# which gives us the \"price * volume\" for that day\n",
    "df['PV'] = df['Close Price'] * df['Total Traded Quantity']\n",
    "\n",
    "# Calculate VWAP\n",
    "df_group = df.groupby(['Year', 'Month']).sum()\n",
    "\n",
    "VWAP = df_group['PV'] / df_group['Total Traded Quantity'] \n",
    "print(VWAP)"
   ]
  },
  {
   "cell_type": "code",
   "execution_count": 7,
   "metadata": {},
   "outputs": [
    {
     "name": "stdout",
     "output_type": "stream",
     "text": [
      "Avg. price over 7 days : 1754.7916666666667, Profit % : -4.3444487599178805\n",
      "Avg. price over 2 weeks : 1767.9222222222222, Profit % : -2.568594761083955\n",
      "Avg. price over 1 month : 1738.0823529411766, Profit % : 1.4445850127982556\n",
      "Avg. price over 3 months : 1626.237288135593, Profit % : 18.49611657158567\n",
      "Avg. price over 6 months : 1584.2714876033056, Profit % : 21.43410579699936\n",
      "Avg. price over 1 year : 1445.5670731707316, Profit % : 21.940868581128875\n"
     ]
    }
   ],
   "source": [
    "# PROBLEM STATEMENT 1.5\n",
    "# (a) Write a function to calculate average stock price over last N days\n",
    "# (b) Write a funciton to calculate profit/loss percentage over last N days\n",
    "\n",
    "# Note : The values will be calculated assuming the current date to be the last date in the dataset (i.e. 13-May-2019)\n",
    "\n",
    "# Function (a)\n",
    "def avg_over_days(N):\n",
    "    delta = dt.timedelta(days = N)\n",
    "    df_filtered = df[df['Date'] >= df.loc[df.shape[0]-1]['Date'] - delta]['Close Price']\n",
    "    return df_filtered.mean()\n",
    "\n",
    "# Function (b)\n",
    "def profit_loss_perc_over_days(N):\n",
    "    delta = dt.timedelta(days = N)\n",
    "    df_filtered = df_filtered = df[df['Date'] >= df.iloc[-1]['Date'] - delta]['Close Price']\n",
    "    \n",
    "    # using formula : 100 * (final_price - initial_price) / initial_price\n",
    "    return 100 * (df_filtered.iloc[-1] - df_filtered.iloc[0]) / df_filtered.iloc[0]\n",
    "\n",
    "\n",
    "print('Avg. price over 7 days : {0}, Profit % : {1}'.format(avg_over_days(7), profit_loss_perc_over_days(7)))\n",
    "print('Avg. price over 2 weeks : {0}, Profit % : {1}'.format(avg_over_days(14), profit_loss_perc_over_days(14)))\n",
    "print('Avg. price over 1 month : {0}, Profit % : {1}'.format(avg_over_days(30), profit_loss_perc_over_days(30)))\n",
    "print('Avg. price over 3 months : {0}, Profit % : {1}'.format(avg_over_days(90), profit_loss_perc_over_days(90)))\n",
    "print('Avg. price over 6 months : {0}, Profit % : {1}'.format(avg_over_days(180), profit_loss_perc_over_days(180)))\n",
    "print('Avg. price over 1 year : {0}, Profit % : {1}'.format(avg_over_days(365), profit_loss_perc_over_days(365)))"
   ]
  },
  {
   "cell_type": "code",
   "execution_count": 8,
   "metadata": {},
   "outputs": [],
   "source": [
    "# PROBLEM STATEMENT 1.6\n",
    "# Add column 'Day_perc_change'\n",
    "\n",
    "df['Day_Perc_Change'] = df['Close Price'].pct_change() * 100\n",
    "\n",
    "# set the first value to 0 because it is NaN. It is NaN because 2 values are required to\n",
    "# calculate the percentage but only 1 value is available for the first row\n",
    "df.at[0,'Day_Perc_Change'] = 0"
   ]
  },
  {
   "cell_type": "code",
   "execution_count": 9,
   "metadata": {},
   "outputs": [],
   "source": [
    "# PROBLEM STATEMENT 1.7\n",
    "# Add a 'Trend' column to the dataset\n",
    "\n",
    "def get_trend(change_perc):\n",
    "    if change_perc < 0.5 and change_perc >= -0.5:\n",
    "        return 'slight or no change'\n",
    "    elif change_perc >= 0.5 and change_perc < 1:\n",
    "        return 'slight positive'\n",
    "    elif change_perc < -0.5 and change_perc >= -1:\n",
    "        return 'slight negative'\n",
    "    elif change_perc >= 1 and change_perc < 3:\n",
    "        return 'positive'\n",
    "    elif change_perc < -1 and change_perc >= -3:\n",
    "        return 'negative'\n",
    "    elif change_perc >= 3 and change_perc < 7:\n",
    "        return 'among top gainers'\n",
    "    elif change_perc < 3 and change_perc >= -7:\n",
    "        return 'among top losers'\n",
    "    elif change_perc >= 7:\n",
    "        return 'bull run'\n",
    "    elif change_perc < -7:\n",
    "        return 'bear drop'\n",
    "    \n",
    "df['Trend'] = df['Day_Perc_Change'].apply(lambda x : get_trend(x))"
   ]
  },
  {
   "cell_type": "code",
   "execution_count": 10,
   "metadata": {},
   "outputs": [
    {
     "name": "stdout",
     "output_type": "stream",
     "text": [
      "MEAN : \n",
      "Trend\n",
      "among top gainers      6.426534e+05\n",
      "among top losers       4.835644e+05\n",
      "bear drop              2.042056e+06\n",
      "bull run               6.050980e+05\n",
      "negative               3.159358e+05\n",
      "positive               3.835129e+05\n",
      "slight negative        2.353158e+05\n",
      "slight or no change    2.494382e+05\n",
      "slight positive        2.616963e+05\n",
      "Name: Total Traded Quantity, dtype: float64\n",
      "\n",
      "\n",
      " MEDIAN :\n",
      "Trend\n",
      "among top gainers       472254.0\n",
      "among top losers        285156.0\n",
      "bear drop              2042055.5\n",
      "bull run                605098.0\n",
      "negative                267615.0\n",
      "positive                301429.0\n",
      "slight negative         180868.5\n",
      "slight or no change     203996.0\n",
      "slight positive         222040.5\n",
      "Name: Total Traded Quantity, dtype: float64\n"
     ]
    }
   ],
   "source": [
    "# PROBLEM STATEMENT 1.8\n",
    "# Find mean and median of 'Total Traded Quantity' for each category of 'Trend'\n",
    "print('MEAN : ')\n",
    "print(df.groupby('Trend').mean()['Total Traded Quantity'])\n",
    "\n",
    "print('\\n\\n MEDIAN :')\n",
    "print(df.groupby('Trend').median()['Total Traded Quantity'])"
   ]
  },
  {
   "cell_type": "code",
   "execution_count": 11,
   "metadata": {},
   "outputs": [],
   "source": [
    "# PROBLEM STATEMENT 1.9\n",
    "# Save the results\n",
    "\n",
    "df.to_csv('week2.csv', index=False)"
   ]
  }
 ],
 "metadata": {
  "kernelspec": {
   "display_name": "Python 3",
   "language": "python",
   "name": "python3"
  },
  "language_info": {
   "codemirror_mode": {
    "name": "ipython",
    "version": 3
   },
   "file_extension": ".py",
   "mimetype": "text/x-python",
   "name": "python",
   "nbconvert_exporter": "python",
   "pygments_lexer": "ipython3",
   "version": "3.7.3"
  }
 },
 "nbformat": 4,
 "nbformat_minor": 2
}
