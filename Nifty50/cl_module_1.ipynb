{
 "cells": [
  {
   "cell_type": "code",
   "execution_count": 1,
   "metadata": {},
   "outputs": [],
   "source": [
    "import pandas as pd\n",
    "import numpy as np\n",
    "\n",
    "%matplotlib inline"
   ]
  },
  {
   "cell_type": "code",
   "execution_count": 2,
   "metadata": {},
   "outputs": [
    {
     "ename": "FileNotFoundError",
     "evalue": "File b'PVR.csv' does not exist",
     "output_type": "error",
     "traceback": [
      "\u001b[0;31m---------------------------------------------------------------------------\u001b[0m",
      "\u001b[0;31mFileNotFoundError\u001b[0m                         Traceback (most recent call last)",
      "\u001b[0;32m<ipython-input-2-fce81cbdab73>\u001b[0m in \u001b[0;36m<module>\u001b[0;34m\u001b[0m\n\u001b[1;32m      1\u001b[0m \u001b[0;31m# PROBLEM STATEMENT 1.1\u001b[0m\u001b[0;34m\u001b[0m\u001b[0;34m\u001b[0m\u001b[0;34m\u001b[0m\u001b[0m\n\u001b[0;32m----> 2\u001b[0;31m \u001b[0mdf\u001b[0m \u001b[0;34m=\u001b[0m \u001b[0mpd\u001b[0m\u001b[0;34m.\u001b[0m\u001b[0mread_csv\u001b[0m\u001b[0;34m(\u001b[0m\u001b[0;34m'PVR.csv'\u001b[0m\u001b[0;34m)\u001b[0m\u001b[0;34m\u001b[0m\u001b[0;34m\u001b[0m\u001b[0m\n\u001b[0m",
      "\u001b[0;32m~/.virtualenvs/ML/lib/python3.7/site-packages/pandas/io/parsers.py\u001b[0m in \u001b[0;36mparser_f\u001b[0;34m(filepath_or_buffer, sep, delimiter, header, names, index_col, usecols, squeeze, prefix, mangle_dupe_cols, dtype, engine, converters, true_values, false_values, skipinitialspace, skiprows, nrows, na_values, keep_default_na, na_filter, verbose, skip_blank_lines, parse_dates, infer_datetime_format, keep_date_col, date_parser, dayfirst, iterator, chunksize, compression, thousands, decimal, lineterminator, quotechar, quoting, escapechar, comment, encoding, dialect, tupleize_cols, error_bad_lines, warn_bad_lines, skipfooter, doublequote, delim_whitespace, low_memory, memory_map, float_precision)\u001b[0m\n\u001b[1;32m    676\u001b[0m                     skip_blank_lines=skip_blank_lines)\n\u001b[1;32m    677\u001b[0m \u001b[0;34m\u001b[0m\u001b[0m\n\u001b[0;32m--> 678\u001b[0;31m         \u001b[0;32mreturn\u001b[0m \u001b[0m_read\u001b[0m\u001b[0;34m(\u001b[0m\u001b[0mfilepath_or_buffer\u001b[0m\u001b[0;34m,\u001b[0m \u001b[0mkwds\u001b[0m\u001b[0;34m)\u001b[0m\u001b[0;34m\u001b[0m\u001b[0;34m\u001b[0m\u001b[0m\n\u001b[0m\u001b[1;32m    679\u001b[0m \u001b[0;34m\u001b[0m\u001b[0m\n\u001b[1;32m    680\u001b[0m     \u001b[0mparser_f\u001b[0m\u001b[0;34m.\u001b[0m\u001b[0m__name__\u001b[0m \u001b[0;34m=\u001b[0m \u001b[0mname\u001b[0m\u001b[0;34m\u001b[0m\u001b[0;34m\u001b[0m\u001b[0m\n",
      "\u001b[0;32m~/.virtualenvs/ML/lib/python3.7/site-packages/pandas/io/parsers.py\u001b[0m in \u001b[0;36m_read\u001b[0;34m(filepath_or_buffer, kwds)\u001b[0m\n\u001b[1;32m    438\u001b[0m \u001b[0;34m\u001b[0m\u001b[0m\n\u001b[1;32m    439\u001b[0m     \u001b[0;31m# Create the parser.\u001b[0m\u001b[0;34m\u001b[0m\u001b[0;34m\u001b[0m\u001b[0;34m\u001b[0m\u001b[0m\n\u001b[0;32m--> 440\u001b[0;31m     \u001b[0mparser\u001b[0m \u001b[0;34m=\u001b[0m \u001b[0mTextFileReader\u001b[0m\u001b[0;34m(\u001b[0m\u001b[0mfilepath_or_buffer\u001b[0m\u001b[0;34m,\u001b[0m \u001b[0;34m**\u001b[0m\u001b[0mkwds\u001b[0m\u001b[0;34m)\u001b[0m\u001b[0;34m\u001b[0m\u001b[0;34m\u001b[0m\u001b[0m\n\u001b[0m\u001b[1;32m    441\u001b[0m \u001b[0;34m\u001b[0m\u001b[0m\n\u001b[1;32m    442\u001b[0m     \u001b[0;32mif\u001b[0m \u001b[0mchunksize\u001b[0m \u001b[0;32mor\u001b[0m \u001b[0miterator\u001b[0m\u001b[0;34m:\u001b[0m\u001b[0;34m\u001b[0m\u001b[0;34m\u001b[0m\u001b[0m\n",
      "\u001b[0;32m~/.virtualenvs/ML/lib/python3.7/site-packages/pandas/io/parsers.py\u001b[0m in \u001b[0;36m__init__\u001b[0;34m(self, f, engine, **kwds)\u001b[0m\n\u001b[1;32m    785\u001b[0m             \u001b[0mself\u001b[0m\u001b[0;34m.\u001b[0m\u001b[0moptions\u001b[0m\u001b[0;34m[\u001b[0m\u001b[0;34m'has_index_names'\u001b[0m\u001b[0;34m]\u001b[0m \u001b[0;34m=\u001b[0m \u001b[0mkwds\u001b[0m\u001b[0;34m[\u001b[0m\u001b[0;34m'has_index_names'\u001b[0m\u001b[0;34m]\u001b[0m\u001b[0;34m\u001b[0m\u001b[0;34m\u001b[0m\u001b[0m\n\u001b[1;32m    786\u001b[0m \u001b[0;34m\u001b[0m\u001b[0m\n\u001b[0;32m--> 787\u001b[0;31m         \u001b[0mself\u001b[0m\u001b[0;34m.\u001b[0m\u001b[0m_make_engine\u001b[0m\u001b[0;34m(\u001b[0m\u001b[0mself\u001b[0m\u001b[0;34m.\u001b[0m\u001b[0mengine\u001b[0m\u001b[0;34m)\u001b[0m\u001b[0;34m\u001b[0m\u001b[0;34m\u001b[0m\u001b[0m\n\u001b[0m\u001b[1;32m    788\u001b[0m \u001b[0;34m\u001b[0m\u001b[0m\n\u001b[1;32m    789\u001b[0m     \u001b[0;32mdef\u001b[0m \u001b[0mclose\u001b[0m\u001b[0;34m(\u001b[0m\u001b[0mself\u001b[0m\u001b[0;34m)\u001b[0m\u001b[0;34m:\u001b[0m\u001b[0;34m\u001b[0m\u001b[0;34m\u001b[0m\u001b[0m\n",
      "\u001b[0;32m~/.virtualenvs/ML/lib/python3.7/site-packages/pandas/io/parsers.py\u001b[0m in \u001b[0;36m_make_engine\u001b[0;34m(self, engine)\u001b[0m\n\u001b[1;32m   1012\u001b[0m     \u001b[0;32mdef\u001b[0m \u001b[0m_make_engine\u001b[0m\u001b[0;34m(\u001b[0m\u001b[0mself\u001b[0m\u001b[0;34m,\u001b[0m \u001b[0mengine\u001b[0m\u001b[0;34m=\u001b[0m\u001b[0;34m'c'\u001b[0m\u001b[0;34m)\u001b[0m\u001b[0;34m:\u001b[0m\u001b[0;34m\u001b[0m\u001b[0;34m\u001b[0m\u001b[0m\n\u001b[1;32m   1013\u001b[0m         \u001b[0;32mif\u001b[0m \u001b[0mengine\u001b[0m \u001b[0;34m==\u001b[0m \u001b[0;34m'c'\u001b[0m\u001b[0;34m:\u001b[0m\u001b[0;34m\u001b[0m\u001b[0;34m\u001b[0m\u001b[0m\n\u001b[0;32m-> 1014\u001b[0;31m             \u001b[0mself\u001b[0m\u001b[0;34m.\u001b[0m\u001b[0m_engine\u001b[0m \u001b[0;34m=\u001b[0m \u001b[0mCParserWrapper\u001b[0m\u001b[0;34m(\u001b[0m\u001b[0mself\u001b[0m\u001b[0;34m.\u001b[0m\u001b[0mf\u001b[0m\u001b[0;34m,\u001b[0m \u001b[0;34m**\u001b[0m\u001b[0mself\u001b[0m\u001b[0;34m.\u001b[0m\u001b[0moptions\u001b[0m\u001b[0;34m)\u001b[0m\u001b[0;34m\u001b[0m\u001b[0;34m\u001b[0m\u001b[0m\n\u001b[0m\u001b[1;32m   1015\u001b[0m         \u001b[0;32melse\u001b[0m\u001b[0;34m:\u001b[0m\u001b[0;34m\u001b[0m\u001b[0;34m\u001b[0m\u001b[0m\n\u001b[1;32m   1016\u001b[0m             \u001b[0;32mif\u001b[0m \u001b[0mengine\u001b[0m \u001b[0;34m==\u001b[0m \u001b[0;34m'python'\u001b[0m\u001b[0;34m:\u001b[0m\u001b[0;34m\u001b[0m\u001b[0;34m\u001b[0m\u001b[0m\n",
      "\u001b[0;32m~/.virtualenvs/ML/lib/python3.7/site-packages/pandas/io/parsers.py\u001b[0m in \u001b[0;36m__init__\u001b[0;34m(self, src, **kwds)\u001b[0m\n\u001b[1;32m   1706\u001b[0m         \u001b[0mkwds\u001b[0m\u001b[0;34m[\u001b[0m\u001b[0;34m'usecols'\u001b[0m\u001b[0;34m]\u001b[0m \u001b[0;34m=\u001b[0m \u001b[0mself\u001b[0m\u001b[0;34m.\u001b[0m\u001b[0musecols\u001b[0m\u001b[0;34m\u001b[0m\u001b[0;34m\u001b[0m\u001b[0m\n\u001b[1;32m   1707\u001b[0m \u001b[0;34m\u001b[0m\u001b[0m\n\u001b[0;32m-> 1708\u001b[0;31m         \u001b[0mself\u001b[0m\u001b[0;34m.\u001b[0m\u001b[0m_reader\u001b[0m \u001b[0;34m=\u001b[0m \u001b[0mparsers\u001b[0m\u001b[0;34m.\u001b[0m\u001b[0mTextReader\u001b[0m\u001b[0;34m(\u001b[0m\u001b[0msrc\u001b[0m\u001b[0;34m,\u001b[0m \u001b[0;34m**\u001b[0m\u001b[0mkwds\u001b[0m\u001b[0;34m)\u001b[0m\u001b[0;34m\u001b[0m\u001b[0;34m\u001b[0m\u001b[0m\n\u001b[0m\u001b[1;32m   1709\u001b[0m \u001b[0;34m\u001b[0m\u001b[0m\n\u001b[1;32m   1710\u001b[0m         \u001b[0mpassed_names\u001b[0m \u001b[0;34m=\u001b[0m \u001b[0mself\u001b[0m\u001b[0;34m.\u001b[0m\u001b[0mnames\u001b[0m \u001b[0;32mis\u001b[0m \u001b[0;32mNone\u001b[0m\u001b[0;34m\u001b[0m\u001b[0;34m\u001b[0m\u001b[0m\n",
      "\u001b[0;32mpandas/_libs/parsers.pyx\u001b[0m in \u001b[0;36mpandas._libs.parsers.TextReader.__cinit__\u001b[0;34m()\u001b[0m\n",
      "\u001b[0;32mpandas/_libs/parsers.pyx\u001b[0m in \u001b[0;36mpandas._libs.parsers.TextReader._setup_parser_source\u001b[0;34m()\u001b[0m\n",
      "\u001b[0;31mFileNotFoundError\u001b[0m: File b'PVR.csv' does not exist"
     ]
    }
   ],
   "source": [
    "# PROBLEM STATEMENT 1.1\n",
    "df = pd.read_csv('PVR.csv')"
   ]
  },
  {
   "cell_type": "code",
   "execution_count": 95,
   "metadata": {},
   "outputs": [
    {
     "data": {
      "text/html": [
       "<div>\n",
       "<style scoped>\n",
       "    .dataframe tbody tr th:only-of-type {\n",
       "        vertical-align: middle;\n",
       "    }\n",
       "\n",
       "    .dataframe tbody tr th {\n",
       "        vertical-align: top;\n",
       "    }\n",
       "\n",
       "    .dataframe thead th {\n",
       "        text-align: right;\n",
       "    }\n",
       "</style>\n",
       "<table border=\"1\" class=\"dataframe\">\n",
       "  <thead>\n",
       "    <tr style=\"text-align: right;\">\n",
       "      <th></th>\n",
       "      <th>Date</th>\n",
       "      <th>Open</th>\n",
       "      <th>High</th>\n",
       "      <th>Low</th>\n",
       "      <th>Close</th>\n",
       "      <th>Shares Traded</th>\n",
       "      <th>Turnover (Rs. Cr)</th>\n",
       "      <th>Month</th>\n",
       "      <th>Year</th>\n",
       "      <th>PV</th>\n",
       "    </tr>\n",
       "  </thead>\n",
       "  <tbody>\n",
       "    <tr>\n",
       "      <th>489</th>\n",
       "      <td>2019-05-07</td>\n",
       "      <td>11651.50</td>\n",
       "      <td>11657.05</td>\n",
       "      <td>11484.45</td>\n",
       "      <td>11497.90</td>\n",
       "      <td>337495624</td>\n",
       "      <td>16632.84</td>\n",
       "      <td>May</td>\n",
       "      <td>2019</td>\n",
       "      <td>3.880491e+12</td>\n",
       "    </tr>\n",
       "    <tr>\n",
       "      <th>490</th>\n",
       "      <td>2019-05-08</td>\n",
       "      <td>11478.70</td>\n",
       "      <td>11479.10</td>\n",
       "      <td>11346.95</td>\n",
       "      <td>11359.45</td>\n",
       "      <td>372826025</td>\n",
       "      <td>17440.01</td>\n",
       "      <td>May</td>\n",
       "      <td>2019</td>\n",
       "      <td>4.235099e+12</td>\n",
       "    </tr>\n",
       "    <tr>\n",
       "      <th>491</th>\n",
       "      <td>2019-05-09</td>\n",
       "      <td>11322.40</td>\n",
       "      <td>11357.60</td>\n",
       "      <td>11255.05</td>\n",
       "      <td>11301.80</td>\n",
       "      <td>373028059</td>\n",
       "      <td>17602.86</td>\n",
       "      <td>May</td>\n",
       "      <td>2019</td>\n",
       "      <td>4.215889e+12</td>\n",
       "    </tr>\n",
       "    <tr>\n",
       "      <th>492</th>\n",
       "      <td>2019-05-10</td>\n",
       "      <td>11314.15</td>\n",
       "      <td>11345.80</td>\n",
       "      <td>11251.05</td>\n",
       "      <td>11278.90</td>\n",
       "      <td>387323416</td>\n",
       "      <td>18085.19</td>\n",
       "      <td>May</td>\n",
       "      <td>2019</td>\n",
       "      <td>4.368582e+12</td>\n",
       "    </tr>\n",
       "    <tr>\n",
       "      <th>493</th>\n",
       "      <td>2019-05-13</td>\n",
       "      <td>11258.70</td>\n",
       "      <td>11300.20</td>\n",
       "      <td>11125.60</td>\n",
       "      <td>11148.20</td>\n",
       "      <td>357586433</td>\n",
       "      <td>16722.91</td>\n",
       "      <td>May</td>\n",
       "      <td>2019</td>\n",
       "      <td>3.986445e+12</td>\n",
       "    </tr>\n",
       "  </tbody>\n",
       "</table>\n",
       "</div>"
      ],
      "text/plain": [
       "          Date      Open      High       Low     Close  Shares Traded  \\\n",
       "489 2019-05-07  11651.50  11657.05  11484.45  11497.90      337495624   \n",
       "490 2019-05-08  11478.70  11479.10  11346.95  11359.45      372826025   \n",
       "491 2019-05-09  11322.40  11357.60  11255.05  11301.80      373028059   \n",
       "492 2019-05-10  11314.15  11345.80  11251.05  11278.90      387323416   \n",
       "493 2019-05-13  11258.70  11300.20  11125.60  11148.20      357586433   \n",
       "\n",
       "     Turnover (Rs. Cr) Month  Year            PV  \n",
       "489           16632.84   May  2019  3.880491e+12  \n",
       "490           17440.01   May  2019  4.235099e+12  \n",
       "491           17602.86   May  2019  4.215889e+12  \n",
       "492           18085.19   May  2019  4.368582e+12  \n",
       "493           16722.91   May  2019  3.986445e+12  "
      ]
     },
     "execution_count": 95,
     "metadata": {},
     "output_type": "execute_result"
    }
   ],
   "source": [
    "df.tail()"
   ]
  },
  {
   "cell_type": "code",
   "execution_count": 78,
   "metadata": {},
   "outputs": [
    {
     "name": "stdout",
     "output_type": "stream",
     "text": [
      "min : 10604.35\n",
      "max : 11787.15\n",
      "mean : 11160.763333333332\n"
     ]
    }
   ],
   "source": [
    "# PROBLEM STATEMENT 1.2\n",
    "# Calculate the max., min. and the mean price of the stock in the last 90 trading days\n",
    "df_last_90_days = df.tail(90)\n",
    "last_90_close = df_last_90_days['Close']\n",
    "\n",
    "min_90 = last_90_close.min()\n",
    "max_90 = last_90_close.max()\n",
    "mean_90 = last_90_close.mean()\n",
    "\n",
    "print('min : ' + str(min_90))\n",
    "print('max : ' + str(max_90))\n",
    "print('mean : ' + str(mean_90))"
   ]
  },
  {
   "cell_type": "code",
   "execution_count": 98,
   "metadata": {},
   "outputs": [],
   "source": [
    "# PROBLEM STATEMENT 1.3\n",
    "# Change the dtype of the 'Date' column to datetime\n",
    "\n",
    "import datetime as dt\n",
    "\n",
    "# df['Date'] = df['Date'].apply(lambda x : dt.datetime.strptime(x, '%d-%b-%Y'))"
   ]
  },
  {
   "cell_type": "code",
   "execution_count": 80,
   "metadata": {},
   "outputs": [
    {
     "name": "stdout",
     "output_type": "stream",
     "text": [
      "728 days 00:00:00\n"
     ]
    }
   ],
   "source": [
    "# Subtracting min value of 'Date' from max value\n",
    "print(df['Date'].max() - df['Date'].min())"
   ]
  },
  {
   "cell_type": "code",
   "execution_count": 82,
   "metadata": {},
   "outputs": [],
   "source": [
    "# PROBLEM STATEMENT 1.4\n",
    "# Calculate monthwise VWAP of the stock.\n",
    "\n",
    "df['Month'] = df['Date'].apply(lambda x : datetime.strftime(x, '%B'))\n",
    "df['Year'] = df['Date'].apply(lambda x : datetime.strftime(x, '%Y'))\n",
    "\n",
    "# To calculate the VWAP we will also add a 'PV' columns \n",
    "# which gives us the \"price * volume\" for that day\n",
    "df['PV'] = df['Close'] * df['Shares Traded']\n",
    "\n",
    "# Calculate VWAP\n",
    "df_group = df.groupby(['Year', 'Month']).sum()\n",
    "\n",
    "VWAP = df_group['PV'] / df_group['Shares Traded'] \n",
    "print(VWAP)"
   ]
  },
  {
   "cell_type": "code",
   "execution_count": 146,
   "metadata": {},
   "outputs": [
    {
     "name": "stdout",
     "output_type": "stream",
     "text": [
      "Avg. price over 7 days : 11364.083333333336, Profit % : -3.8803267734356415\n",
      "Avg. price over 2 weeks : 11485.516666666666, Profit % : -5.106761490106944\n",
      "Avg. price over 1 month : 11581.938235294117, Profit % : -4.637585701026912\n",
      "Avg. price over 3 months : 11326.847457627116, Profit % : 2.9248296619089045\n",
      "Avg. price over 6 months : 11052.686776859504, Profit % : 5.407373088887432\n",
      "Avg. price over 1 year : 10978.849186991867, Profit % : 3.1610312216608403\n"
     ]
    }
   ],
   "source": [
    "# PROBLEM STATEMENT 1.5\n",
    "# (a) Write a function to calculate average stock price over last N days\n",
    "# (b) Write a funciton to calculate profit/loss percentage over last N days\n",
    "\n",
    "# Note : The values will be calculated assuming the current date to be the last date in the dataset (i.e. 13-May-2019)\n",
    "\n",
    "# Function (a)\n",
    "def avg_over_days(N):\n",
    "    delta = dt.timedelta(days = N)\n",
    "    df_filtered = df[df['Date'] >= df.loc[df.shape[0]-1]['Date'] - delta]['Close']\n",
    "    return df_filtered.mean()\n",
    "\n",
    "# Function (b)\n",
    "def profit_loss_perc_over_days(N):\n",
    "    delta = dt.timedelta(days = N)\n",
    "    df_filtered = df_filtered = df[df['Date'] >= df.iloc[-1]['Date'] - delta]['Close']\n",
    "    \n",
    "    # using formula : 100 * (final_price - initial_price) / initial_price\n",
    "    return 100 * (df_filtered.iloc[-1] - df_filtered.iloc[0]) / df_filtered.iloc[0]\n",
    "\n",
    "\n",
    "print('Avg. price over 7 days : {0}, Profit % : {1}'.format(avg_over_days(7), profit_loss_perc_over_days(7)))\n",
    "print('Avg. price over 2 weeks : {0}, Profit % : {1}'.format(avg_over_days(14), profit_loss_perc_over_days(14)))\n",
    "print('Avg. price over 1 month : {0}, Profit % : {1}'.format(avg_over_days(30), profit_loss_perc_over_days(30)))\n",
    "print('Avg. price over 3 months : {0}, Profit % : {1}'.format(avg_over_days(90), profit_loss_perc_over_days(90)))\n",
    "print('Avg. price over 6 months : {0}, Profit % : {1}'.format(avg_over_days(180), profit_loss_perc_over_days(180)))\n",
    "print('Avg. price over 1 year : {0}, Profit % : {1}'.format(avg_over_days(365), profit_loss_perc_over_days(365)))"
   ]
  },
  {
   "cell_type": "code",
   "execution_count": 160,
   "metadata": {},
   "outputs": [],
   "source": [
    "# PROBLEM STATEMENT 1.6\n",
    "# Add column 'Day_perc_change'\n",
    "\n",
    "df['Day_Perc_Change'] = df['Close'].pct_change()\n",
    "\n",
    "# set the first value to 0 because it is NaN. It is NaN because 2 values are required to\n",
    "# calculate the percentage but only 1 value is available for the first row\n",
    "df.at[0,'Day_Perc_Change'] = 0"
   ]
  },
  {
   "cell_type": "code",
   "execution_count": 162,
   "metadata": {},
   "outputs": [],
   "source": [
    "# PROBLEM STATEMENT 1.7\n",
    "# Add a 'Trend' column to the dataset\n",
    "\n",
    "def get_trend(change_perc):\n",
    "    if change_perc < 0.5 and change_perc >= -0.5:\n",
    "        return 'slight or no change'\n",
    "    elif change_perc >= 0.5 and change_perc < 1:\n",
    "        return 'slight positive'\n",
    "    elif change_perc < -0.5 and change_perc >= -1:\n",
    "        return 'slight negative'\n",
    "    elif change_perc >= 1 and change_perc < 3:\n",
    "        return 'positive'\n",
    "    elif change_perc < -1 and change_perc >= -3:\n",
    "        return 'negative'\n",
    "    elif change_perc >= 3 and change_perc < 7:\n",
    "        return 'among top gainers'\n",
    "    elif change_perc < 3 and change_perc >= -7:\n",
    "        return 'among top losers'\n",
    "    elif change_perc >= 7:\n",
    "        return 'bull run'\n",
    "    elif change_perc < -7:\n",
    "        return 'bear drop'\n",
    "    \n",
    "df['Trend'] = df['Day_Perc_Change'].apply(lambda x : get_trendnd(x))"
   ]
  },
  {
   "cell_type": "code",
   "execution_count": 166,
   "metadata": {},
   "outputs": [
    {
     "data": {
      "text/html": [
       "<div>\n",
       "<style scoped>\n",
       "    .dataframe tbody tr th:only-of-type {\n",
       "        vertical-align: middle;\n",
       "    }\n",
       "\n",
       "    .dataframe tbody tr th {\n",
       "        vertical-align: top;\n",
       "    }\n",
       "\n",
       "    .dataframe thead th {\n",
       "        text-align: right;\n",
       "    }\n",
       "</style>\n",
       "<table border=\"1\" class=\"dataframe\">\n",
       "  <thead>\n",
       "    <tr style=\"text-align: right;\">\n",
       "      <th></th>\n",
       "      <th>Open</th>\n",
       "      <th>High</th>\n",
       "      <th>Low</th>\n",
       "      <th>Close</th>\n",
       "      <th>Shares Traded</th>\n",
       "      <th>Turnover (Rs. Cr)</th>\n",
       "      <th>PV</th>\n",
       "      <th>Day_Perc_Change</th>\n",
       "    </tr>\n",
       "    <tr>\n",
       "      <th>Trend</th>\n",
       "      <th></th>\n",
       "      <th></th>\n",
       "      <th></th>\n",
       "      <th></th>\n",
       "      <th></th>\n",
       "      <th></th>\n",
       "      <th></th>\n",
       "      <th></th>\n",
       "    </tr>\n",
       "  </thead>\n",
       "  <tbody>\n",
       "    <tr>\n",
       "      <th>slight or no change</th>\n",
       "      <td>10583.743016</td>\n",
       "      <td>10622.674291</td>\n",
       "      <td>10525.919939</td>\n",
       "      <td>10574.617308</td>\n",
       "      <td>2.648677e+08</td>\n",
       "      <td>13677.918806</td>\n",
       "      <td>2.823385e+12</td>\n",
       "      <td>0.000361</td>\n",
       "    </tr>\n",
       "  </tbody>\n",
       "</table>\n",
       "</div>"
      ],
      "text/plain": [
       "                             Open          High           Low         Close  \\\n",
       "Trend                                                                         \n",
       "slight or no change  10583.743016  10622.674291  10525.919939  10574.617308   \n",
       "\n",
       "                     Shares Traded  Turnover (Rs. Cr)            PV  \\\n",
       "Trend                                                                 \n",
       "slight or no change   2.648677e+08       13677.918806  2.823385e+12   \n",
       "\n",
       "                     Day_Perc_Change  \n",
       "Trend                                 \n",
       "slight or no change         0.000361  "
      ]
     },
     "execution_count": 166,
     "metadata": {},
     "output_type": "execute_result"
    }
   ],
   "source": [
    "# PROBLEM STATEMENT 1.8\n",
    "df.groupby('Trend').mean()"
   ]
  }
 ],
 "metadata": {
  "kernelspec": {
   "display_name": "Python 3",
   "language": "python",
   "name": "python3"
  },
  "language_info": {
   "codemirror_mode": {
    "name": "ipython",
    "version": 3
   },
   "file_extension": ".py",
   "mimetype": "text/x-python",
   "name": "python",
   "nbconvert_exporter": "python",
   "pygments_lexer": "ipython3",
   "version": "3.7.3"
  }
 },
 "nbformat": 4,
 "nbformat_minor": 2
}
