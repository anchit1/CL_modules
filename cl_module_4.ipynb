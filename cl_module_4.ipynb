{
 "cells": [
  {
   "cell_type": "markdown",
   "metadata": {},
   "source": [
    "# Module 4 - Algo Trading using Classification\n"
   ]
  },
  {
   "cell_type": "code",
   "execution_count": 52,
   "metadata": {},
   "outputs": [],
   "source": [
    "import numpy as np\n",
    "import pandas as pd\n",
    "import seaborn as sns\n",
    "\n",
    "# ML stuff\n",
    "from sklearn.model_selection import train_test_split\n",
    "from sklearn.linear_model import LogisticRegression\n",
    "from sklearn.linear_model import SGDClassifier\n",
    "from sklearn.svm import SVC\n",
    "from sklearn.ensemble import RandomForestClassifier\n",
    "\n",
    "\n",
    "%matplotlib inline"
   ]
  },
  {
   "cell_type": "markdown",
   "metadata": {},
   "source": [
    "### Query 4.1\n",
    "Import the csv file of the stock which contained the Bollinger columns as well. "
   ]
  },
  {
   "cell_type": "code",
   "execution_count": 2,
   "metadata": {},
   "outputs": [],
   "source": [
    "df = pd.read_csv('week3.csv')"
   ]
  },
  {
   "cell_type": "markdown",
   "metadata": {},
   "source": [
    "### Query 4.1a\n",
    "\n",
    "Create a new column 'Call' , whose entries are - <br>\n",
    "'Buy' if the stock price is below the lower Bollinger band <br>\n",
    "'Hold Buy/ Liquidate Short' if the stock price is between the lower and middle Bollinger band <br>\n",
    "'Hold Short/ Liquidate Buy' if the stock price is between the middle and upper Bollinger band <br>\n",
    "'Short' if the stock price is above the upper Bollinger band <br>"
   ]
  },
  {
   "cell_type": "code",
   "execution_count": 3,
   "metadata": {},
   "outputs": [],
   "source": [
    "def get_call(row):\n",
    "    price = row['Close Price']\n",
    "    if price < row['boll_down']:\n",
    "        return 'Buy'\n",
    "    elif price >= row['boll_down'] and price < row['14_SMA']:\n",
    "        return 'Hold Buy/ Liquidate Short'\n",
    "    elif price >= row['14_SMA'] and price < row['boll_up']:\n",
    "        return 'Hold Short/ Liquidate Buy'\n",
    "    else:\n",
    "        return 'Short'\n",
    "\n",
    "df['call'] = df.apply(lambda x: get_call(x), axis=1)\n",
    "df.at[0:12, 'call'] = np.nan"
   ]
  },
  {
   "cell_type": "markdown",
   "metadata": {},
   "source": [
    "### Query 4.1b\n",
    "\n",
    "Now train a classification model with the 3 bollinger columns and the stock price as inputs and 'Calls' as output. Check the accuracy on a test set. (There are many classifier models to choose from, try each one out and compare the accuracy for each)"
   ]
  },
  {
   "cell_type": "code",
   "execution_count": 4,
   "metadata": {},
   "outputs": [],
   "source": [
    "# Create train and test set\n",
    "df2 = df.drop(df.loc[0:12].index)\n",
    "X = df2[['14_SMA', 'boll_down', 'boll_up', 'Close Price']]\n",
    "y = df2['call']\n",
    "x_train, x_test, y_train, y_test = train_test_split(\n",
    "    X, y, test_size=0.1, random_state=42)"
   ]
  },
  {
   "cell_type": "code",
   "execution_count": 5,
   "metadata": {},
   "outputs": [
    {
     "name": "stderr",
     "output_type": "stream",
     "text": [
      "/home/anchit/.virtualenvs/ML/lib/python3.7/site-packages/sklearn/linear_model/logistic.py:758: ConvergenceWarning: lbfgs failed to converge. Increase the number of iterations.\n",
      "  \"of iterations.\", ConvergenceWarning)\n"
     ]
    },
    {
     "data": {
      "text/plain": [
       "LogisticRegression(C=1.0, class_weight=None, dual=False, fit_intercept=True,\n",
       "          intercept_scaling=1, max_iter=100, multi_class='auto',\n",
       "          n_jobs=None, penalty='l2', random_state=None, solver='lbfgs',\n",
       "          tol=0.0001, verbose=0, warm_start=False)"
      ]
     },
     "execution_count": 5,
     "metadata": {},
     "output_type": "execute_result"
    }
   ],
   "source": [
    "# Train logistic regression\n",
    "clf = LogisticRegression(solver='lbfgs', multi_class='auto')\n",
    "clf.fit(x_train, y_train)"
   ]
  },
  {
   "cell_type": "code",
   "execution_count": 6,
   "metadata": {},
   "outputs": [
    {
     "name": "stderr",
     "output_type": "stream",
     "text": [
      "/home/anchit/.virtualenvs/ML/lib/python3.7/site-packages/sklearn/linear_model/stochastic_gradient.py:166: FutureWarning: max_iter and tol parameters have been added in SGDClassifier in 0.19. If both are left unset, they default to max_iter=5 and tol=None. If tol is not None, max_iter defaults to max_iter=1000. From 0.21, default max_iter will be 1000, and default tol will be 1e-3.\n",
      "  FutureWarning)\n"
     ]
    },
    {
     "data": {
      "text/plain": [
       "SGDClassifier(alpha=0.0001, average=False, class_weight=None,\n",
       "       early_stopping=False, epsilon=0.1, eta0=0.0, fit_intercept=True,\n",
       "       l1_ratio=0.15, learning_rate='optimal', loss='hinge', max_iter=None,\n",
       "       n_iter=None, n_iter_no_change=5, n_jobs=None, penalty='l2',\n",
       "       power_t=0.5, random_state=None, shuffle=True, tol=None,\n",
       "       validation_fraction=0.1, verbose=0, warm_start=False)"
      ]
     },
     "execution_count": 6,
     "metadata": {},
     "output_type": "execute_result"
    }
   ],
   "source": [
    "# Train SGDClassifier\n",
    "sgd_clf = SGDClassifier()\n",
    "sgd_clf.fit(x_train, y_train)"
   ]
  },
  {
   "cell_type": "code",
   "execution_count": 7,
   "metadata": {},
   "outputs": [
    {
     "data": {
      "text/plain": [
       "SVC(C=1.0, cache_size=200, class_weight=None, coef0=0.0,\n",
       "  decision_function_shape='ovr', degree=3, gamma='auto', kernel='rbf',\n",
       "  max_iter=-1, probability=False, random_state=None, shrinking=True,\n",
       "  tol=0.001, verbose=False)"
      ]
     },
     "execution_count": 7,
     "metadata": {},
     "output_type": "execute_result"
    }
   ],
   "source": [
    "# Train Support Vector Classifier (SVC)\n",
    "svc_clf = SVC(gamma='auto')\n",
    "svc_clf.fit(x_train, y_train)"
   ]
  },
  {
   "cell_type": "code",
   "execution_count": 8,
   "metadata": {},
   "outputs": [
    {
     "name": "stderr",
     "output_type": "stream",
     "text": [
      "/home/anchit/.virtualenvs/ML/lib/python3.7/site-packages/sklearn/ensemble/forest.py:246: FutureWarning: The default value of n_estimators will change from 10 in version 0.20 to 100 in 0.22.\n",
      "  \"10 in version 0.20 to 100 in 0.22.\", FutureWarning)\n"
     ]
    },
    {
     "data": {
      "text/plain": [
       "RandomForestClassifier(bootstrap=True, class_weight=None, criterion='gini',\n",
       "            max_depth=None, max_features='auto', max_leaf_nodes=None,\n",
       "            min_impurity_decrease=0.0, min_impurity_split=None,\n",
       "            min_samples_leaf=1, min_samples_split=2,\n",
       "            min_weight_fraction_leaf=0.0, n_estimators=10, n_jobs=None,\n",
       "            oob_score=False, random_state=None, verbose=0,\n",
       "            warm_start=False)"
      ]
     },
     "execution_count": 8,
     "metadata": {},
     "output_type": "execute_result"
    }
   ],
   "source": [
    "# Train Random Forest Classifier\n",
    "rf_clf = RandomForestClassifier()\n",
    "rf_clf.fit(x_train, y_train)"
   ]
  },
  {
   "cell_type": "code",
   "execution_count": 9,
   "metadata": {},
   "outputs": [
    {
     "name": "stdout",
     "output_type": "stream",
     "text": [
      "Logistic Regression score : 0.939\n",
      "SGD Classifier score : 0.531\n",
      "SVC Classifier score : 0.510\n",
      "Random Forest Classifier score : 0.837\n"
     ]
    }
   ],
   "source": [
    "# The results with default parameters\n",
    "print('Logistic Regression score : {0:.{1}f}'.format(clf.score(x_test, y_test), 3))\n",
    "print('SGD Classifier score : {0:.{1}f}'.format(sgd_clf.score(x_test, y_test), 3))\n",
    "print('SVC Classifier score : {0:.{1}f}'.format(svc_clf.score(x_test, y_test), 3))\n",
    "print('Random Forest Classifier score : {0:.{1}f}'.format(rf_clf.score(x_test, y_test), 3))"
   ]
  },
  {
   "cell_type": "markdown",
   "metadata": {},
   "source": [
    "### Query 4.1c\n",
    "\n",
    "Import another stock data and create the bollinger columns. Using the already defined model, predict the daily calls for this new stock."
   ]
  },
  {
   "cell_type": "code",
   "execution_count": 10,
   "metadata": {},
   "outputs": [],
   "source": [
    "stock2 = pd.read_csv('Small_Cap/JETAIRWAYS.csv')\n",
    "\n",
    "stock2['14_SMA'] = stock2['Close Price'].rolling(14).mean()\n",
    "stock2['boll_up'] = stock2['14_SMA'] + 2*stock2['14_SMA'].std()\n",
    "stock2['boll_down'] = stock2['14_SMA'] - 2*stock2['14_SMA'].std()\n",
    "\n",
    "stock2['call'] = stock2.apply(lambda x: get_call(x), axis=1)\n",
    "\n",
    "X2 = stock2.drop(stock2[0:13].index)[['14_SMA', 'boll_down', 'boll_up', 'Close Price']]\n",
    "y2 = stock2.drop(stock2[0:13].index)['call']"
   ]
  },
  {
   "cell_type": "code",
   "execution_count": 11,
   "metadata": {},
   "outputs": [
    {
     "name": "stdout",
     "output_type": "stream",
     "text": [
      "Logistic regression score : 0.52\n",
      "SGD classifier score : 0.71\n",
      "SVC classifier score : 0.40\n",
      "Random Forest classifier score : 0.60\n"
     ]
    }
   ],
   "source": [
    "# Test the different classifiers\n",
    "\n",
    "print('Logistic regression score : {0:.{1}f}'.format(clf.score(X2, y2), 2))\n",
    "print('SGD classifier score : {0:.{1}f}'.format(sgd_clf.score(X2, y2), 2))\n",
    "print('SVC classifier score : {0:.{1}f}'.format(svc_clf.score(X2, y2), 2))\n",
    "print('Random Forest classifier score : {0:.{1}f}'.format(rf_clf.score(X2, y2), 2))"
   ]
  },
  {
   "cell_type": "markdown",
   "metadata": {},
   "source": [
    "### Query 4.2\n",
    "\n",
    "Now, we'll again utilize classification to make a trade call, and measure the efficiency of our trading algorithm over the past two years. For this assignment , we will use RandomForest classifier. "
   ]
  },
  {
   "cell_type": "markdown",
   "metadata": {},
   "source": [
    "### Query 4.2a\n",
    "Import the stock data file of your choice"
   ]
  },
  {
   "cell_type": "code",
   "execution_count": 12,
   "metadata": {},
   "outputs": [],
   "source": [
    "df = pd.read_csv('Small_Cap/PVR.csv')"
   ]
  },
  {
   "cell_type": "markdown",
   "metadata": {},
   "source": [
    "### Query 4.2b\n",
    "\n",
    "Define 4 new columns , whose values are: <br>\n",
    "% change between Open and Close price for the day <br>\n",
    "% change between Low and High price for the day <br>\n",
    "5 day rolling mean of the day to day % change in Close Price <br>\n",
    "5 day rolling std of the day to day % change in Close Price <br>"
   ]
  },
  {
   "cell_type": "code",
   "execution_count": 13,
   "metadata": {},
   "outputs": [],
   "source": [
    "df['pct_open_close'] = 100 * (df['Close Price'] - df['Open Price']) / df['Open Price']\n",
    "df['pct_high_low'] = 100 * (df['High Price'] - df['Low Price']) / df['Low Price']\n",
    "df['roll_mean_5_pct_daily'] = (df['Close Price'].pct_change() * 100).rolling(5).mean()\n",
    "df['roll_std_5_pct_daily'] = (df['Close Price'].pct_change() * 100).rolling(5).std()"
   ]
  },
  {
   "cell_type": "markdown",
   "metadata": {},
   "source": [
    "### Query 4.2c\n",
    "\n",
    "Create a new column 'Action' whose values are: <br>\n",
    "1 if next day's price(Close) is greater than present day's. <br>\n",
    "(-1) if next day's price(Close) is less than present day's. <br>\n",
    "i.e. Action [ i ] = 1 if Close[ i+1 ] > Close[ i ] <br>\n",
    "i.e. Action [ i ] = (-1) if Close[ i+1 ] < Close[ i ] <br>"
   ]
  },
  {
   "cell_type": "code",
   "execution_count": 14,
   "metadata": {},
   "outputs": [],
   "source": [
    "def get_action(row):\n",
    "    if row.name == df.shape[0]-1:\n",
    "        return np.nan\n",
    "    if row['Close Price'] <= df.loc[int(row.name) + 1, 'Close Price']:\n",
    "        return 1\n",
    "    else:\n",
    "        return -1\n",
    "\n",
    "df['action'] = df.apply(lambda x: get_action(x), axis=1)"
   ]
  },
  {
   "cell_type": "markdown",
   "metadata": {},
   "source": [
    "### Query 4.2d\n",
    "\n",
    "Construct a classification model with the 4 new inputs and 'Action' as target"
   ]
  },
  {
   "cell_type": "code",
   "execution_count": 15,
   "metadata": {},
   "outputs": [
    {
     "name": "stderr",
     "output_type": "stream",
     "text": [
      "/home/anchit/.virtualenvs/ML/lib/python3.7/site-packages/sklearn/ensemble/forest.py:246: FutureWarning: The default value of n_estimators will change from 10 in version 0.20 to 100 in 0.22.\n",
      "  \"10 in version 0.20 to 100 in 0.22.\", FutureWarning)\n"
     ]
    },
    {
     "data": {
      "text/plain": [
       "RandomForestClassifier(bootstrap=True, class_weight=None, criterion='gini',\n",
       "            max_depth=None, max_features='auto', max_leaf_nodes=None,\n",
       "            min_impurity_decrease=0.0, min_impurity_split=None,\n",
       "            min_samples_leaf=1, min_samples_split=2,\n",
       "            min_weight_fraction_leaf=0.0, n_estimators=10, n_jobs=None,\n",
       "            oob_score=False, random_state=None, verbose=0,\n",
       "            warm_start=False)"
      ]
     },
     "execution_count": 15,
     "metadata": {},
     "output_type": "execute_result"
    }
   ],
   "source": [
    "# Using Random Forest Classifier\n",
    "X = df.drop(df.loc[0:4].index)[['pct_open_close', 'pct_high_low', 'roll_mean_5_pct_daily', 'roll_std_5_pct_daily']]\n",
    "y = df.drop(df.loc[0:4].index)['action']\n",
    "\n",
    "# Drop the last row because it has nan in its action column\n",
    "X.drop(X.iloc[-1].name, inplace=True)\n",
    "y.drop(y.index[-1], inplace=True)\n",
    "\n",
    "x_train, x_test, y_train, y_test = train_test_split(\n",
    "    X, y, test_size=0.1, random_state=51)\n",
    "\n",
    "rf_clf = RandomForestClassifier()\n",
    "rf_clf.fit(x_train, y_train)"
   ]
  },
  {
   "cell_type": "markdown",
   "metadata": {},
   "source": [
    "### Query 4.2e\n",
    "\n",
    "Check the accuracy of this model , also , plot the net cumulative returns (in %) if we were to follow this algorithmic model"
   ]
  },
  {
   "cell_type": "code",
   "execution_count": 16,
   "metadata": {},
   "outputs": [
    {
     "data": {
      "text/plain": [
       "0.3673469387755102"
      ]
     },
     "execution_count": 16,
     "metadata": {},
     "output_type": "execute_result"
    }
   ],
   "source": [
    "# Score of the classifier\n",
    "rf_clf.score(x_test, y_test)"
   ]
  },
  {
   "cell_type": "code",
   "execution_count": 58,
   "metadata": {},
   "outputs": [],
   "source": [
    "def get_pred_return(row, df):\n",
    "    if row.name == t.iloc[-1].name:\n",
    "        return np.nan\n",
    "    return row['pred'] * df.loc[row.name + 1, 'pct_daily']"
   ]
  },
  {
   "cell_type": "code",
   "execution_count": 64,
   "metadata": {},
   "outputs": [
    {
     "data": {
      "text/plain": [
       "<matplotlib.axes._subplots.AxesSubplot at 0x7f86e5469198>"
      ]
     },
     "execution_count": 64,
     "metadata": {},
     "output_type": "execute_result"
    },
    {
     "data": {
      "image/png": "[encoded data removed]",
      "text/plain": [
       "<Figure size 1152x648 with 1 Axes>"
      ]
     },
     "metadata": {},
     "output_type": "display_data"
    }
   ],
   "source": [
    "# Plot returns for a new stock\n",
    "stock2 = pd.read_csv('Small_Cap/FORTIS.csv')\n",
    "\n",
    "# Add the required columns\n",
    "stock2['pct_open_close'] = 100 * (stock2['Close Price'] - stock2['Open Price']) / stock2['Open Price']\n",
    "stock2['pct_high_low'] = 100 * (stock2['High Price'] - stock2['Low Price']) / stock2['Low Price']\n",
    "stock2['roll_mean_5_pct_daily'] = (stock2['Close Price'].pct_change() * 100).rolling(5).mean()\n",
    "stock2['roll_std_5_pct_daily'] = (stock2['Close Price'].pct_change() * 100).rolling(5).std()\n",
    "\n",
    "# Remove rows with nan and add the pred column\n",
    "stock2 = stock2.loc[X.index]\n",
    "stock2['pred'] = rf_clf.predict(stock2[['pct_open_close', 'pct_high_low', 'roll_mean_5_pct_daily', 'roll_std_5_pct_daily']])\n",
    "\n",
    "# Calculate and plot cumulative returns\n",
    "stock2['pct_daily'] = stock2['Close Price'].pct_change() * 100\n",
    "stock2['pred_returns'] = stock2.apply(lambda x: get_pred_return(x, stock2), axis=1)\n",
    "stock2['cum_ret'] = (1 + stock2['pred_returns'] / 100).cumprod() - 1\n",
    "sns.set(rc={'figure.figsize':(16,9)})\n",
    "sns.lineplot(x=stock2.index, y=stock2['cum_ret'])\n"
   ]
  }
 ],
 "metadata": {
  "kernelspec": {
   "display_name": "Python 3",
   "language": "python",
   "name": "python3"
  },
  "language_info": {
   "codemirror_mode": {
    "name": "ipython",
    "version": 3
   },
   "file_extension": ".py",
   "mimetype": "text/x-python",
   "name": "python",
   "nbconvert_exporter": "python",
   "pygments_lexer": "ipython3",
   "version": "3.7.3"
  }
 },
 "nbformat": 4,
 "nbformat_minor": 2
}
